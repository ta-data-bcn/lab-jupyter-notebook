{
 "cells": [
  {
   "cell_type": "markdown",
   "metadata": {},
   "source": [
    "# This notebook shows you my so far most beautiful holiday destination"
   ]
  },
  {
   "cell_type": "code",
   "execution_count": 1,
   "metadata": {},
   "outputs": [
    {
     "name": "stdout",
     "output_type": "stream",
     "text": [
      "Please insert your name!Dirk\n",
      "Dirk\n"
     ]
    }
   ],
   "source": [
    "name = input(\"Please insert your name!\")\n",
    "print(name)"
   ]
  },
  {
   "cell_type": "code",
   "execution_count": 2,
   "metadata": {},
   "outputs": [
    {
     "name": "stdout",
     "output_type": "stream",
     "text": [
      "What is your favourite holiday destination?Laos\n",
      "Laos\n"
     ]
    }
   ],
   "source": [
    "destination = input(\"What is your favourite holiday destination?\")\n",
    "print(destination)"
   ]
  },
  {
   "cell_type": "code",
   "execution_count": 3,
   "metadata": {},
   "outputs": [],
   "source": []
  },
  {
   "attachments": {},
   "cell_type": "markdown",
   "metadata": {},
   "source": [
    "## 1. Introduction\n",
    "## 2. Getting there and away\n",
    "## 3. Most beautiful sights\n",
    "## 4. Dishes you should try \n",
    "\n",
    "-----------------------------------------------------------------\n",
    "\n",
    "### 1. Introduction\n",
    "In 2010 I went on a 1-month-vacation to Southeast Asia in order to explore the region between Laos and Northern Vietnam.\n",
    "The country I enjoyed the most was definitely Laos with its lush landscapes, rich cultural hertitage, warm-hearted people and delicious cuisine.\n",
    "\n",
    "This is \n",
    "\n",
    "learning to ride a vespa in about 7 minutes on Cat Ba island:\n",
    "\n",
    "<img src=\"Laos_bike.jpg\" width=400 height=300 />\n",
    "\n",
    "But have a look yourself:\n",
    "https://www.youtube.com/watch?v=1J1afFwqgpU\n",
    "\n",
    "\n",
    "### 2. Getting there and away\n",
    "\n",
    "As Laos is often part of a wider trip to the region, many people choose to travel there overland, with the crossings from Thailand near Vientiane and at Houayxai the most popular options. There are currently no direct flights to Laos from outside of Asia – most visitors fly via Bangkok, from where it takes just over an hour to reach Vientiane, and just under two hours to Luang Prabang. \n",
    "\n",
    "### 3. Most beautiful sights\n",
    "\n",
    "#### 1. Mount Phousi\n",
    "In the heart of northern Laos lies Luang Prabang, a picturesque town added to the UNESCO World Heritage List in 1995 for its unique architecture. Sitting in the center of its old town is the emblem of Luang Prabang, Mount Phousi, a towering natural structure which is over 100 meters high. The climb uphill here can be exhausting, but it will reward with unforgettable views.\n",
    "\n",
    "#### 2. Vat Phou\n",
    "Along with the Champasak Cultural Landscape, Vat Phou is the second inclusion in the UNESCO World Heritage List of Laos. Vat Phou, meaning ‘mountain temple’ in English, are the ruins of a Khmer Hindu temple dated back to the 5th century. Blended into the surrounding nature, the remains of Vat Phou are dotted charmingly all over the mountain top and the waterfront. In the ruins of the temple visitors here can follow the traces of the Khmer Empire from a thousand years ago, with inscriptions and altars still clearly visible.\n",
    "\n",
    "#### 3. Dong Natad Forest\n",
    "In Southern Laos, in Savannakhet, Dong Natad is a forest that not many tourists know about. Away from other tourist hotspots and the buzz of the city center, and past the famous Friendship Bridge and the salt mines, you will finally arrive at Nong Lam Lake and the Dong Natad forest. Two communities of native villagers live here, and it is quite likely that you may encounter some tribesmen picking mushrooms or fruits, and collecting ants and other insects; this is a must-stop for those seeking to get a true taste of traditional Laos life.\n",
    "\n",
    "<img src=\"Dong_Natad.jpg\" width=400 height=300 />\n",
    "\n",
    "#### Luang Prabang\n",
    "\n",
    "The small town of Luang Prabang is located in northern Laos and has one of the most beautiful settings in south-east Asia. Sandwiched between the Mekong and the Nam Khan River, Luang Prabang it is oh so pretty.\n",
    "This old French colonial town became a UNESCO World Heritage Site in 1995 and nowadays it’s very popular with visitors to Laos.\n",
    "\n",
    "<img src=\"Luang_Prabang.jpg\" width=400 height=300 />\n",
    "\n",
    "### 4. Dishes you should try \n",
    "\n",
    "1. Kaipen (Fried Seaweed)\n",
    "\n",
    "2. Khao Jee (Baguette)\n",
    "\n",
    "3. Khao Poon (Spicy Noodle Soup)\n",
    "\n",
    "<img src=\"khao_poon.jpg\" width=400 height=300 />\n",
    "\n",
    "4. Lao Sausage.\n",
    "\n",
    "5. Larb (Minced Meat Salad)\n",
    "\n",
    "6. Laos Pho.\n",
    "\n",
    "7. Or Lam (Lao Stew)\n",
    "\n",
    "8. Sien Savanh (Lao Beef Jerky)\n"
   ]
  },
  {
   "cell_type": "code",
   "execution_count": null,
   "metadata": {},
   "outputs": [],
   "source": []
  }
 ],
 "metadata": {
  "kernelspec": {
   "display_name": "Python 3",
   "language": "python",
   "name": "python3"
  },
  "language_info": {
   "codemirror_mode": {
    "name": "ipython",
    "version": 3
   },
   "file_extension": ".py",
   "mimetype": "text/x-python",
   "name": "python",
   "nbconvert_exporter": "python",
   "pygments_lexer": "ipython3",
   "version": "3.8.3"
  }
 },
 "nbformat": 4,
 "nbformat_minor": 4
}
