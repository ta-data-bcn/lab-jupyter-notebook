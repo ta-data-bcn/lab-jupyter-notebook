{
 "cells": [
  {
   "cell_type": "markdown",
   "metadata": {},
   "source": [
    "# Mike´s Perfect Holidays"
   ]
  },
  {
   "cell_type": "markdown",
   "metadata": {},
   "source": [
    "***"
   ]
  },
  {
   "cell_type": "markdown",
   "metadata": {},
   "source": [
    "## <span style=\"color:orange\">Index</span>\n",
    "\n",
    "* [Who is Mike](#Who-is-Mike?)\n",
    "\n",
    "* [The Cottage Views](#The-Cottage-Views)\n",
    "\n",
    "* [Mike´s Holiday Video](#Mike´s-Holiday-Video)\n",
    "\n",
    "* [Mike´s Top 3 Things](#Mike´s-Top-3-Things)\n",
    "\n",
    "* [Functions](#Functions)\n",
    "\n",
    "\n"
   ]
  },
  {
   "cell_type": "markdown",
   "metadata": {},
   "source": [
    "***"
   ]
  },
  {
   "cell_type": "markdown",
   "metadata": {},
   "source": [
    "### <span style=\"color:red\">Who is Mike?</span> "
   ]
  },
  {
   "cell_type": "markdown",
   "metadata": {},
   "source": [
    "> Mike is a 34 year old financial advisor from ***New York*** who loves the **wild live**, everytime he has a break from his busy work, he goes to his cottage up in the hills where he spends time with his doc and friends.  "
   ]
  },
  {
   "cell_type": "markdown",
   "metadata": {},
   "source": [
    "### <span style=\"color:red\">The Cottage Views</span> "
   ]
  },
  {
   "cell_type": "markdown",
   "metadata": {},
   "source": [
    "<img src=\"https://makeadventurehappen.com/wp-content/uploads/2020/06/Man-hiking-in-the-mountains.jpg\" alt=\"Mike´s view from his cottage\">"
   ]
  },
  {
   "cell_type": "markdown",
   "metadata": {},
   "source": [
    "### <span style=\"color:red\">Mike´s Holiday Video</span>\n",
    "\n",
    "> __[Enjoy it](https://www.youtube.com/watch?v=Nn6-uMinE_o)__"
   ]
  },
  {
   "cell_type": "markdown",
   "metadata": {},
   "source": [
    "### <span style=\"color:red\">Mike´s Top 3 Things</span> \n",
    "\n",
    "1. Hiking\n",
    "1. Swimming in the lake \n",
    "1. Read a book "
   ]
  },
  {
   "cell_type": "markdown",
   "metadata": {},
   "source": [
    "***"
   ]
  },
  {
   "cell_type": "markdown",
   "metadata": {},
   "source": [
    "### <span style=\"color:green\">Functions</span> "
   ]
  },
  {
   "cell_type": "markdown",
   "metadata": {},
   "source": [
    "#### Name Function"
   ]
  },
  {
   "cell_type": "code",
   "execution_count": 2,
   "metadata": {},
   "outputs": [
    {
     "name": "stdin",
     "output_type": "stream",
     "text": [
      "Enter your name:  Mike\n"
     ]
    },
    {
     "name": "stdout",
     "output_type": "stream",
     "text": [
      "Hello, Mike\n"
     ]
    }
   ],
   "source": [
    "def user_name(): \n",
    "    x = input(\"Enter your name: \")\n",
    "    print(\"Hello, \" + x)\n",
    "\n",
    "user_name()"
   ]
  },
  {
   "cell_type": "markdown",
   "metadata": {},
   "source": [
    "#### Holidays Function"
   ]
  },
  {
   "cell_type": "code",
   "execution_count": 1,
   "metadata": {},
   "outputs": [
    {
     "name": "stdin",
     "output_type": "stream",
     "text": [
      "Choose where would you like to have a holiday: Beach, Mountain, City Mountain\n"
     ]
    },
    {
     "name": "stdout",
     "output_type": "stream",
     "text": [
      "Awesome, enjoy your holidays at the Mountain\n"
     ]
    }
   ],
   "source": [
    "def holidays():\n",
    "    x = input(\"Choose where would you like to have a holiday: Beach, Mountain, City\")\n",
    "    print(\"Awesome, enjoy your holidays at the \" + x)\n",
    "\n",
    "holidays()"
   ]
  },
  {
   "cell_type": "markdown",
   "metadata": {},
   "source": [
    "***"
   ]
  }
 ],
 "metadata": {
  "kernelspec": {
   "display_name": "Python 3",
   "language": "python",
   "name": "python3"
  },
  "language_info": {
   "codemirror_mode": {
    "name": "ipython",
    "version": 3
   },
   "file_extension": ".py",
   "mimetype": "text/x-python",
   "name": "python",
   "nbconvert_exporter": "python",
   "pygments_lexer": "ipython3",
   "version": "3.8.5"
  }
 },
 "nbformat": 4,
 "nbformat_minor": 4
}
