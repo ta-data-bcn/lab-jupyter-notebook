{
 "cells": [
  {
   "cell_type": "markdown",
   "metadata": {},
   "source": [
    "# This is <font color=pink>**Cris**</font>. I would like to go to <font color=green>**Kenya**</font>."
   ]
  },
  {
   "cell_type": "markdown",
   "metadata": {},
   "source": [
    "[link Kenya](https://www.youtube.com/watch?v=gTEXJsw62iU)"
   ]
  },
  {
   "cell_type": "markdown",
   "metadata": {},
   "source": [
    "## This notebook reveals my current <font color=green>**dream visit**</font> to this country."
   ]
  },
  {
   "cell_type": "code",
   "execution_count": 11,
   "metadata": {},
   "outputs": [
    {
     "name": "stdout",
     "output_type": "stream",
     "text": [
      "Cris\n"
     ]
    }
   ],
   "source": [
    "def my_name():\n",
    "    print(\"Cris\")\n",
    "    \n",
    "my_name()"
   ]
  },
  {
   "cell_type": "markdown",
   "metadata": {},
   "source": [
    "\n",
    "<img src=\"https://photos.google.com/share/AF1QipNA_CXQKnserIjzY4ARg04AarXRYasHv3uCspk2TA0iRIvpqLN2hD3V7odrWWA-zg?key=WW1XVkt0bHR2cHNXY2liTFNuNVdNaUhLZXdZbEJR.gif\" alt=\"This is me.\" title=\"Hi!\" />"
   ]
  },
  {
   "cell_type": "code",
   "execution_count": 1,
   "metadata": {},
   "outputs": [
    {
     "name": "stdout",
     "output_type": "stream",
     "text": [
      "Kenya\n"
     ]
    }
   ],
   "source": [
    "def holiday_pref():\n",
    "    print(\"Kenya\")\n",
    "\n",
    "holiday_pref()"
   ]
  },
  {
   "cell_type": "markdown",
   "metadata": {},
   "source": [
    "### In <font color=green>**Kenya**</font> I would like to:\n",
    "> ### - Explore the city and culture\n",
    "> ### - Hike and visit small villages\n",
    "> ### - See the wild life"
   ]
  },
  {
   "cell_type": "code",
   "execution_count": null,
   "metadata": {},
   "outputs": [],
   "source": []
  }
 ],
 "metadata": {
  "kernelspec": {
   "display_name": "Python 3",
   "language": "python",
   "name": "python3"
  },
  "language_info": {
   "codemirror_mode": {
    "name": "ipython",
    "version": 3
   },
   "file_extension": ".py",
   "mimetype": "text/x-python",
   "name": "python",
   "nbconvert_exporter": "python",
   "pygments_lexer": "ipython3",
   "version": "3.8.3"
  }
 },
 "nbformat": 4,
 "nbformat_minor": 4
}
