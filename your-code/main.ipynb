{
 "cells": [
  {
   "cell_type": "markdown",
   "metadata": {},
   "source": [
    "## Introduction\n",
    "\n",
    "Creating a Jupyter notebook that is well commented and tells the story of your code / project is very important. It will be relevant for your upcoming projects during the bootcamp.\n",
    "\n",
    "## Getting Started\n",
    "\n",
    "Open the jupyter notebook file `main.ipynb` in the `your-code` directory. Inside the file you should do the following steps:\n",
    "\n",
    "- In the notebook that you created, introduce someone and her/his holidays preference with a picture and a link to a youtube video of this holiday preference (It can be you :D).\n",
    "- Explain the purpose of the notebook with beautiful markdown!\n",
    "- Include an index to the relevant sections of your notebook\n",
    "- Write a function that inputs the user's name (You or a friend)\n",
    "- Add a photo of you or that friend. \n",
    "- Write a function that inputs their holidays preference.\n",
    "- Add a photo of you or that friend in the holiday destination \n",
    "- Add bullet points of the top 3 things that you or your friend like doing in this destination.\n",
    "- Try to make the text colorful, bold or italic.\n",
    "- Add a link to a youtube video of the destination.\n",
    "- Add titles to all sections you have created, and then create hyperlinks from the elements of the index to their corresponding section title."
   ]
  },
  {
   "cell_type": "markdown",
   "metadata": {},
   "source": [
    "# Indonesia"
   ]
  },
  {
   "cell_type": "markdown",
   "metadata": {},
   "source": [
    "## Index"
   ]
  },
  {
   "cell_type": "markdown",
   "metadata": {},
   "source": [
    "1. The ***purpose*** of this markdown\n",
    "\n",
    "2. A few ***pictures*** of my favorite destination\n",
    "    \n",
    "3. ***Top three things*** I like doing in my fav destination\n",
    "    \n",
    "4. A ***video*** for your entertainment"
   ]
  },
  {
   "cell_type": "markdown",
   "metadata": {},
   "source": [
    "### 1. The **purpose** of this markdown"
   ]
  },
  {
   "cell_type": "markdown",
   "metadata": {},
   "source": [
    "The purpose of this markdown is introduce my holidays preference with a picture and a link to a youtube video of this holiday preference."
   ]
  },
  {
   "cell_type": "code",
   "execution_count": 1,
   "metadata": {},
   "outputs": [],
   "source": [
    "def get_name():\n",
    "\n",
    "    name = input(\"What is my name: \")\n",
    "    return name"
   ]
  },
  {
   "cell_type": "code",
   "execution_count": 5,
   "metadata": {},
   "outputs": [],
   "source": [
    "def favorite_destination():\n",
    "    name = \"\"\n",
    "    while name != \"André\":\n",
    "        name = get_name()\n",
    "        \n",
    "    destination = input(\"What is your favorite destination: \")\n",
    "    return destination"
   ]
  },
  {
   "cell_type": "code",
   "execution_count": 8,
   "metadata": {},
   "outputs": [
    {
     "name": "stdout",
     "output_type": "stream",
     "text": [
      "What is my name: André\n",
      "What is your favorite destination: Indonesia\n"
     ]
    }
   ],
   "source": [
    "destination_name = favorite_destination()"
   ]
  },
  {
   "cell_type": "markdown",
   "metadata": {},
   "source": [
    "### 2. A few pictures of my favorite destination"
   ]
  },
  {
   "cell_type": "markdown",
   "metadata": {},
   "source": [
    "![photo](../Photo.png)"
   ]
  },
  {
   "cell_type": "markdown",
   "metadata": {},
   "source": [
    "### 3. Top 3 things to do in Indonesia"
   ]
  },
  {
   "cell_type": "markdown",
   "metadata": {},
   "source": [
    "* Surf\n",
    "* Eat\n",
    "* Sleep\n",
    "* Do this in a For Loop until Vacation ends"
   ]
  },
  {
   "cell_type": "markdown",
   "metadata": {},
   "source": [
    "### 4. Video for entertainment"
   ]
  },
  {
   "cell_type": "markdown",
   "metadata": {},
   "source": [
    "A video of Indoensia can be found in <a href=\"https://www.youtube.com/watch?v=204O_xorrHk\" target=\"_blank\">this link</a>."
   ]
  },
  {
   "cell_type": "markdown",
   "metadata": {},
   "source": [
    "# *Thank you for your time*"
   ]
  }
 ],
 "metadata": {
  "kernelspec": {
   "display_name": "Python 3",
   "language": "python",
   "name": "python3"
  },
  "language_info": {
   "codemirror_mode": {
    "name": "ipython",
    "version": 3
   },
   "file_extension": ".py",
   "mimetype": "text/x-python",
   "name": "python",
   "nbconvert_exporter": "python",
   "pygments_lexer": "ipython3",
   "version": "3.8.3"
  }
 },
 "nbformat": 4,
 "nbformat_minor": 4
}
