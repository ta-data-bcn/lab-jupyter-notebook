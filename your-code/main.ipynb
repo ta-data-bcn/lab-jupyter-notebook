{
 "cells": [
  {
   "cell_type": "markdown",
   "metadata": {},
   "source": [
    "# LAB | Jupyter Notebook (Holidays Preference)"
   ]
  },
  {
   "cell_type": "markdown",
   "metadata": {},
   "source": [
    "## Index\n",
    "\n",
    "<div class=\"alert alert-block alert-info\"><b>Tip:</b> \n",
    "    \n",
    "- Introduction\n",
    "    \n",
    "- Purpose\n",
    "    \n",
    "- Who is this person?\n",
    "    \n",
    "- Holidays Preference \n",
    "    \n",
    "- Bullets Points [Butllets Points](#Butllets-Points)\n",
    "    \n",
    "- Problems [Problems](#Problems)\n",
    "    \n",
    "- Why don't you have a photo? \n",
    "    \n",
    "</div>\n",
    "\n",
    "\n"
   ]
  },
  {
   "cell_type": "markdown",
   "metadata": {},
   "source": [
    "# Introduction\n",
    "\n",
    "Hello my name is Felip Samitier and I explain in this Lab the Holidays Preference of someone.\n",
    "\n"
   ]
  },
  {
   "cell_type": "markdown",
   "metadata": {},
   "source": [
    "# Purpose\n",
    "\n",
    "This Lab is for explain __holidays preference__ with *image*, `video` and more."
   ]
  },
  {
   "cell_type": "markdown",
   "metadata": {},
   "source": [
    "# Who is this person?\n",
    "\n",
    "Anyone who wants to go to northern europe and want visit a great place."
   ]
  },
  {
   "cell_type": "markdown",
   "metadata": {},
   "source": [
    "# Holidays Preference\n",
    "\n",
    "This place is Lauterbrunnen (Switzerland)\n",
    "\n",
    "<img src=https://media-cdn.tripadvisor.com/media/photo-m/1280/1b/3c/cc/62/lauterbrunnen.jpg>\n",
    "\n",
    "<div class=\"alert alert-block alert-warning\"><b></b> \n",
    "Is is a place that is surrounded by 20 or more waterfalls!\n",
    "</div>"
   ]
  },
  {
   "cell_type": "markdown",
   "metadata": {},
   "source": [
    "# Butllets Points\n",
    "\n",
    "You can do many things, but the best are the following:\n",
    "\n",
    "- Parachute Jamping\n",
    "\n",
    "<img src=https://elpais.com/deportes/imagenes/2017/10/20/adrenalina/1508520898_541466_1508521630_noticia_grande.jpg>\n",
    "\n",
    "- Visit waterfalls and their caves\n",
    "\n",
    "__[link text](https://www.youtube.com/watch?v=csnD5EVL5z8)__\n",
    "\n",
    "- Take a beer from switzerland <div class=\"alert alert-block alert-danger\"><b></b> carefully!</div>\n",
    "\n",
    "<img src=https://www.ecestaticos.com/imagestatic/clipping/602/e2b/602e2b2f914d8b74feabc57a96b4810d.jpg>"
   ]
  },
  {
   "cell_type": "markdown",
   "metadata": {},
   "source": [
    "# Problems\n",
    "\n",
    "There isn't problem if you go with respect although I think the biggest problem is the __price__, because Switzerland\n",
    "is so expensive\n",
    "\n",
    "<img src=https://angelikalevi.net/wp-content/uploads/2017/12/hayquegastarheader-960x540.jpg>\n"
   ]
  },
  {
   "cell_type": "markdown",
   "metadata": {},
   "source": [
    "# Why you don't have a photo?\n",
    "\n",
    "Because I don't have any photos on this laptop :("
   ]
  }
 ],
 "metadata": {
  "kernelspec": {
   "display_name": "Python 3",
   "language": "python",
   "name": "python3"
  },
  "language_info": {
   "codemirror_mode": {
    "name": "ipython",
    "version": 3
   },
   "file_extension": ".py",
   "mimetype": "text/x-python",
   "name": "python",
   "nbconvert_exporter": "python",
   "pygments_lexer": "ipython3",
   "version": "3.8.5"
  },
  "varInspector": {
   "cols": {
    "lenName": 16,
    "lenType": 16,
    "lenVar": 40
   },
   "kernels_config": {
    "python": {
     "delete_cmd_postfix": "",
     "delete_cmd_prefix": "del ",
     "library": "var_list.py",
     "varRefreshCmd": "print(var_dic_list())"
    },
    "r": {
     "delete_cmd_postfix": ") ",
     "delete_cmd_prefix": "rm(",
     "library": "var_list.r",
     "varRefreshCmd": "cat(var_dic_list()) "
    }
   },
   "types_to_exclude": [
    "module",
    "function",
    "builtin_function_or_method",
    "instance",
    "_Feature"
   ],
   "window_display": false
  }
 },
 "nbformat": 4,
 "nbformat_minor": 4
}
