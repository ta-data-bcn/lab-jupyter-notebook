{
 "cells": [
  {
   "attachments": {},
   "cell_type": "markdown",
   "metadata": {},
   "source": [
    "# My favourite destination\n",
    "## In the following lines I will describe Andorra, my favourite vacation place\n",
    "<font color=blue>**Andorra** ([video](https://www.youtube.com/watch?v=-V02O64dzBQ&t=3s)) is my favourite _vacation place_ for the following reasons:</font>\n",
    " - It is a good place to ski, which is my favourite sport.\n",
    " - Its landscape full of mountains is very relaxing.\n",
    " - Shopping is very cheap.\n",
    " <br>\n",
    "<img src=\"Image.png\"/>"
   ]
  },
  {
   "cell_type": "code",
   "execution_count": 1,
   "metadata": {},
   "outputs": [],
   "source": [
    "def my_name (name):\n",
    "    print(\"My name is \" + name)\n",
    "def holiday_destination (dest):\n",
    "    print(\"My favourite holiday destination is \" + dest)"
   ]
  },
  {
   "cell_type": "code",
   "execution_count": 2,
   "metadata": {},
   "outputs": [
    {
     "name": "stdout",
     "output_type": "stream",
     "text": [
      "My name is Javier\n",
      "My favourite holiday destination is Andorra\n"
     ]
    }
   ],
   "source": [
    "my_name(\"Javier\")\n",
    "holiday_destination(\"Andorra\")"
   ]
  }
 ],
 "metadata": {
  "kernelspec": {
   "display_name": "Python 3",
   "language": "python",
   "name": "python3"
  },
  "language_info": {
   "codemirror_mode": {
    "name": "ipython",
    "version": 3
   },
   "file_extension": ".py",
   "mimetype": "text/x-python",
   "name": "python",
   "nbconvert_exporter": "python",
   "pygments_lexer": "ipython3",
   "version": "3.7.7"
  }
 },
 "nbformat": 4,
 "nbformat_minor": 4
}
