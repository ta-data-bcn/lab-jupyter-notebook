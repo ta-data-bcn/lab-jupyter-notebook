{
 "cells": [
  {
   "cell_type": "markdown",
   "metadata": {},
   "source": [
    "# Summer holidays in 2021"
   ]
  },
  {
   "cell_type": "markdown",
   "metadata": {},
   "source": [
    "1. [Introduction](#Introduction)\n",
    "2. [VISA application](#VISA)\n",
    "1. [Time and Weather](#Time)\n",
    "4. [Locations](#Loc)\n"
   ]
  },
  {
   "cell_type": "code",
   "execution_count": 14,
   "metadata": {},
   "outputs": [
    {
     "name": "stdout",
     "output_type": "stream",
     "text": [
      "What's your name?\n",
      "Miguel\n",
      "Please, introduce your destination\n",
      "Australia\n"
     ]
    }
   ],
   "source": [
    "print(\"What's your name?\")\n",
    "x = input() \n",
    "print(\"Please, introduce your destination\")\n",
    "y = input()\n"
   ]
  },
  {
   "cell_type": "code",
   "execution_count": 17,
   "metadata": {
    "scrolled": true
   },
   "outputs": [
    {
     "name": "stdout",
     "output_type": "stream",
     "text": [
      "Welcome Miguel! This is your planning to travel to Australia.\n"
     ]
    }
   ],
   "source": [
    "print(\"Welcome \" + x + \"! This is your planning to travel to \"+ y +\".\")"
   ]
  },
  {
   "cell_type": "markdown",
   "metadata": {},
   "source": [
    "<a id=\"Introduction\"></a>"
   ]
  },
  {
   "cell_type": "markdown",
   "metadata": {},
   "source": [
    "### 1. Introduction "
   ]
  },
  {
   "cell_type": "markdown",
   "metadata": {},
   "source": [
    "\n",
    "After a year and a half of a painful lockdown due to the coronavirus pandemic, scientist have finally developed a vaccine that works in the 100% of the cases. Thus, the virus is fully erradicated. In order to re-activate the global economy spanish government provides a budget of **5000€** to travel to any part of the world. With this money I will travel to Australia, I'll spend 2 months visiting the whole country.</font>"
   ]
  },
  {
   "cell_type": "markdown",
   "metadata": {},
   "source": [
    "<a id=\"VISA\"></a>"
   ]
  },
  {
   "cell_type": "markdown",
   "metadata": {},
   "source": [
    "### 2. VISA application"
   ]
  },
  {
   "cell_type": "markdown",
   "metadata": {},
   "source": [
    "Since all the countries are trying to attract as many visitors as possible, all the paperwork have been simplified. The only thing I need to do is <font color='Red'>send a whatsapp to the Australian embassy</font> to inform them when will I'll arrive to the country and they will send me a driver to take me from the Airport to my hotel."
   ]
  },
  {
   "cell_type": "markdown",
   "metadata": {},
   "source": [
    "<a id=\"Time\"></a>"
   ]
  },
  {
   "cell_type": "markdown",
   "metadata": {},
   "source": [
    "### 3. Time and Weather"
   ]
  },
  {
   "cell_type": "markdown",
   "metadata": {},
   "source": [
    "Australia is far from Spain, travel angency reminded me that there is a time difference of 9 hours and *while in Spain is summer, in Australia is winter*. Good to know, I almost book my trip for August!"
   ]
  },
  {
   "cell_type": "markdown",
   "metadata": {},
   "source": [
    "<a id=\"Loc\"></a>"
   ]
  },
  {
   "cell_type": "markdown",
   "metadata": {},
   "source": [
    "### 4. Locations"
   ]
  },
  {
   "cell_type": "markdown",
   "metadata": {},
   "source": [
    "There are many places to visit in Australia, I will divide it in different parts:\n",
    "\n",
    "#####  Part I. Sydney and Melbourne\n",
    "\n",
    "In my arrival I will visit the two most important cities in Australia, Sydney and Melbourne. I'll spend 10 days in each one.\n",
    "\n",
    "##### Part II. Great Barrier Reef\n",
    "\n",
    "A must in this trip is to visit the Reef. I'll spend 20 days driving for all the coast of the Reef. I will start in Cairns and I'll drive south towards Brisbane. (*Note: Don't forget to take surf classes*)\n",
    "\n",
    "\n",
    "##### Part III. Perth and the dessert\n",
    "\n",
    "By last I'll cross the whole country through the desert to arrive to Perth. In the dessert I'll stop by Uluru, the ancient mountain in the middle of nowhere.\n",
    "\n",
    "##### Part IV. Nature\n",
    "\n",
    "The rest of the trip I will be visting the rainforest and looking for:\n",
    "* Koalas \n",
    "* Kangaroos\n",
    "* Other marsupials"
   ]
  },
  {
   "cell_type": "markdown",
   "metadata": {},
   "source": [
    "<img src=\"code/Canguro.png\">"
   ]
  },
  {
   "attachments": {},
   "cell_type": "markdown",
   "metadata": {},
   "source": [
    "![Canguro.png](code/Canguro.png)"
   ]
  }
 ],
 "metadata": {
  "kernelspec": {
   "display_name": "Python 3",
   "language": "python",
   "name": "python3"
  },
  "language_info": {
   "codemirror_mode": {
    "name": "ipython",
    "version": 3
   },
   "file_extension": ".py",
   "mimetype": "text/x-python",
   "name": "python",
   "nbconvert_exporter": "python",
   "pygments_lexer": "ipython3",
   "version": "3.7.4"
  }
 },
 "nbformat": 4,
 "nbformat_minor": 4
}
