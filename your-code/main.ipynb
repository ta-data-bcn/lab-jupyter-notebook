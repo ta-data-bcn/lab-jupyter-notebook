{
 "cells": [
  {
   "cell_type": "markdown",
   "metadata": {},
   "source": [
    "# This is what my roommate wants to do for his holidays this year\n",
    "\n",
    "## <font color = red> He used to live in front of the beach but now he lives in a big city. This year, he wants to spend his entire vacations surfing, practising scuba-diving and just wandering in the nature. He would prefer to have some mountains nearby to go climbing and hiking too. </font>\n",
    "\n",
    "### <font color = green> In this notebook, we are going to show you where he is heading in August and what are his plans</font>"
   ]
  },
  {
   "cell_type": "code",
   "execution_count": 2,
   "metadata": {},
   "outputs": [
    {
     "name": "stdout",
     "output_type": "stream",
     "text": [
      "What is your name:Pablo\n",
      "My roommate name is Pablo\n"
     ]
    }
   ],
   "source": [
    "name_roommate = input(\"What is your name:\")\n",
    "print(\"My roommate name is\", name_roommate)"
   ]
  },
  {
   "cell_type": "markdown",
   "metadata": {},
   "source": [
    "<a id=\"picture_of_pablo\"></a>"
   ]
  },
  {
   "attachments": {},
   "cell_type": "markdown",
   "metadata": {},
   "source": [
    "<img src='roommate_lab.jpg'>"
   ]
  },
  {
   "cell_type": "code",
   "execution_count": 3,
   "metadata": {},
   "outputs": [
    {
     "name": "stdout",
     "output_type": "stream",
     "text": [
      "Where do you want to travel:Bilbao\n",
      "Pablo is going on holidays to Bilbao\n"
     ]
    }
   ],
   "source": [
    "holidays_preference = input(\"Where do you want to travel:\")\n",
    "print(name_roommate, \"is going on holidays to\", holidays_preference)"
   ]
  },
  {
   "cell_type": "markdown",
   "metadata": {},
   "source": [
    "<a id=\"Pablo_surfing\"></a>"
   ]
  },
  {
   "attachments": {},
   "cell_type": "markdown",
   "metadata": {},
   "source": [
    "<img src='roommate_lab_1.jpg'>"
   ]
  },
  {
   "cell_type": "markdown",
   "metadata": {},
   "source": [
    "### - <font color = blue> Pablo loves surfing in Bilbao and the many beaches around because the conditions are usually great.</font>\n",
    "### - *He also loves going to the mountains and just hiking.*\n",
    "### - **The third great thing he loves is that he can also wander around a city and eat good food.**"
   ]
  },
  {
   "cell_type": "markdown",
   "metadata": {},
   "source": [
    "### *This was the video that motivated Pablo to travel to Bilbao!*"
   ]
  },
  {
   "cell_type": "markdown",
   "metadata": {},
   "source": [
    "<a href=\"https://www.youtube.com/watch?v=d9GmqzORa-4\n",
    "\" target=\"_blank\"><img src=\"https://i.ytimg.com/vi/9xPf01AF5hk/hqdefault.jpg?sqp=-oaymwEZCNACELwBSFXyq4qpAwsIARUAAIhCGAFwAQ==&rs=AOn4CLCV-b4ENbqB1WEtqM7BxMl4DxZbFQ\" \n",
    "alt=\"IMAGE ALT TEXT HERE\" width=\"240\" height=\"180\" border=\"10\" /></a>"
   ]
  },
  {
   "cell_type": "markdown",
   "metadata": {},
   "source": [
    "### Youtube video "
   ]
  },
  {
   "cell_type": "code",
   "execution_count": null,
   "metadata": {},
   "outputs": [],
   "source": []
  }
 ],
 "metadata": {
  "kernelspec": {
   "display_name": "Python 3",
   "language": "python",
   "name": "python3"
  },
  "language_info": {
   "codemirror_mode": {
    "name": "ipython",
    "version": 3
   },
   "file_extension": ".py",
   "mimetype": "text/x-python",
   "name": "python",
   "nbconvert_exporter": "python",
   "pygments_lexer": "ipython3",
   "version": "3.8.2"
  }
 },
 "nbformat": 4,
 "nbformat_minor": 4
}
