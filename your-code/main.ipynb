{
 "cells": [
  {
   "cell_type": "markdown",
   "metadata": {},
   "source": [
    "# Lofoten Islands\n",
    "## Sea, snow and northern lights"
   ]
  },
  {
   "cell_type": "markdown",
   "metadata": {},
   "source": [
    "### Location"
   ]
  },
  {
   "attachments": {},
   "cell_type": "markdown",
   "metadata": {},
   "source": [
    "![location-map-lofoten-norway.jpg](../images/location-map-lofoten-norway.jpg)"
   ]
  },
  {
   "attachments": {},
   "cell_type": "markdown",
   "metadata": {},
   "source": [
    "Lofoten islands are an archipelago located in the northern coast of **Norway**, at latitude 68 degrees, north of the Polar Artic Circle. Last year I went with my wife and some friends on the first week of February, in winter time.\n",
    "![Lofoten.jpg](../images/Lofoten.jpg)"
   ]
  },
  {
   "cell_type": "markdown",
   "metadata": {},
   "source": [
    "Although it may seem cold, the temperature there barely drops below -5 on winter nights, and during daytime it stays positive around 3-4 Celsius degrees, making Lofoten **one of the warmer places on Earth at that latitude**."
   ]
  },
  {
   "cell_type": "markdown",
   "metadata": {},
   "source": [
    "### Friend group and activities"
   ]
  },
  {
   "cell_type": "code",
   "execution_count": 4,
   "metadata": {},
   "outputs": [],
   "source": [
    "friend_group = ['Alba', 'Marina', 'Nico', 'Pol']"
   ]
  },
  {
   "attachments": {},
   "cell_type": "markdown",
   "metadata": {},
   "source": [
    "![Friend%20Group.jpg](../images/Friend%20Group.jpg)"
   ]
  },
  {
   "cell_type": "markdown",
   "metadata": {},
   "source": [
    "During the week we spend there, we loved to:\n",
    "1. Go *snowshoeing* during day.\n",
    "2. Stay at the beautiful appartment during afternoon (sunset occurred around 3:30 PM).\n",
    "3. Go searching *Northern Lights* on evenings.\n",
    "\n",
    "\n",
    "|   Morning   | Afternoon |        Evening        |\n",
    "|-------------|-----------|-----------------------|\n",
    "| Snowshoeing |   Relax   | Search Northern Lights|"
   ]
  },
  {
   "cell_type": "markdown",
   "metadata": {},
   "source": [
    "### Northern Lights"
   ]
  },
  {
   "attachments": {},
   "cell_type": "markdown",
   "metadata": {},
   "source": [
    "And of course, at that latitude there are **Northern Lights** one of the best scenes that Nature can offer to a human being. ![Lofoten%20nl%201.jpg](../images/Lofoten%20nl%201.jpg)"
   ]
  },
  {
   "cell_type": "markdown",
   "metadata": {},
   "source": [
    "If you can visit at anytime please do it. You won't regret at all."
   ]
  },
  {
   "cell_type": "markdown",
   "metadata": {},
   "source": [
    "https://www.youtube.com/watch?v=TWnOD7vLYC8"
   ]
  },
  {
   "attachments": {},
   "cell_type": "markdown",
   "metadata": {},
   "source": [
    "![Lofoten%20nl%202.jpg](../images/Lofoten%20nl%202.jpg)"
   ]
  },
  {
   "cell_type": "markdown",
   "metadata": {},
   "source": [
    "Best place on earth to be."
   ]
  }
 ],
 "metadata": {
  "kernelspec": {
   "display_name": "Python 3",
   "language": "python",
   "name": "python3"
  },
  "language_info": {
   "codemirror_mode": {
    "name": "ipython",
    "version": 3
   },
   "file_extension": ".py",
   "mimetype": "text/x-python",
   "name": "python",
   "nbconvert_exporter": "python",
   "pygments_lexer": "ipython3",
   "version": "3.7.6"
  }
 },
 "nbformat": 4,
 "nbformat_minor": 4
}
