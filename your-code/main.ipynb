{
 "cells": [
  {
   "cell_type": "markdown",
   "metadata": {},
   "source": [
    "# JUPYTER NOTEBOOK LAB \n",
    "***\n"
   ]
  },
  {
   "cell_type": "markdown",
   "metadata": {},
   "source": [
    "<div class=\"alert alert-block alert-warning\">\n",
    "<b>About this notebook:</b> The purpose of this notebook is to practice with markdowns so i can make my code much more organised and understandable to others.\n",
    "</div>\n",
    "\n"
   ]
  },
  {
   "cell_type": "markdown",
   "metadata": {},
   "source": [
    "***\n",
    "## Index\n",
    ">-  **_[1.My Name](#section_1)_**\n",
    ">-  **_[2.My Photo](#section_2)_**\n",
    ">- **_[3.My Favourite Holiday](#section_3)_**\n",
    ">- **_[4.My Favourite Holiday's destination](#section_4)_**\n",
    "\n",
    "\n"
   ]
  },
  {
   "cell_type": "markdown",
   "metadata": {},
   "source": [
    "***\n",
    "<a id=\"section_1\"></a>\n",
    "## 1. My Name\n",
    "<br>\n",
    "\n",
    ">*My name is __Raul Castrillo Martinez__*\n",
    "\n",
    "<br><br>"
   ]
  },
  {
   "cell_type": "markdown",
   "metadata": {},
   "source": [
    "<a id=\"section_2\"></a>\n",
    "***\n",
    "## 2. My Photo\n",
    "<br>\n",
    "\n",
    ">*This is __Me__ :*\n",
    "\n",
    "<br>\n",
    "<img src=\"images/raul.jpg\" />\n",
    "<br><br><br><br>"
   ]
  },
  {
   "cell_type": "markdown",
   "metadata": {},
   "source": [
    "***\n",
    "<a id=\"section_3\"></a>\n",
    "## 3. My Favourite Holiday\n",
    "<br>\n",
    "\n",
    "> *My Favourite holiday is __Christmas__ and my Favourite Holiday song is  __[`Minion's`](https://www.youtube.com/watch?v=0tQRXl4nsww)__*\n",
    "\n",
    "\n",
    "\n",
    "<br><br>"
   ]
  },
  {
   "cell_type": "markdown",
   "metadata": {},
   "source": [
    "***\n",
    "<a id=\"section_4\"></a>\n",
    "## 4. My Favourite Holiday's destination\n",
    "\n",
    "<br><br>\n",
    "> *My Favourite destination is __[`GrandValira`](https://www.youtube.com/watch?v=0tQRXl4nsww)__ :*\n",
    "\n",
    "<br>\n",
    "\n",
    "<img src=\"images/snow_raul.jpg\" />\n",
    "<br>\n",
    "\n",
    "\n",
    ">- *__The things i like to do most in the snow are__* :\n",
    "    - <font color=red>Snow Fights with friends</font>\n",
    "    - <font color=blue>Snowboarding</font>\n",
    "    - <font color=green>Printing Angels in the snow covered ground</font>\n",
    "<br><br>"
   ]
  },
  {
   "cell_type": "code",
   "execution_count": null,
   "metadata": {},
   "outputs": [],
   "source": [
    "\n"
   ]
  }
 ],
 "metadata": {
  "kernelspec": {
   "display_name": "Python 3",
   "language": "python",
   "name": "python3"
  },
  "language_info": {
   "codemirror_mode": {
    "name": "ipython",
    "version": 3
   },
   "file_extension": ".py",
   "mimetype": "text/x-python",
   "name": "python",
   "nbconvert_exporter": "python",
   "pygments_lexer": "ipython3",
   "version": "3.8.3"
  }
 },
 "nbformat": 4,
 "nbformat_minor": 4
}
