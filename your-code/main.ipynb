{
 "cells": [
  {
   "cell_type": "markdown",
   "metadata": {},
   "source": [
    "# <font color=green>Our last interail</font>"
   ]
  },
  {
   "cell_type": "markdown",
   "metadata": {},
   "source": [
    "__[Theme Song](https://www.youtube.com/watch?v=kJQP7kiw5Fk)__"
   ]
  },
  {
   "cell_type": "markdown",
   "metadata": {},
   "source": [
    "<img src=\"https://www.vounajanela.com/wp-content/uploads/2018/05/o-que-fazer-em-budapeste-1-1050x599.jpg\" width=\"100%\" align=\"center\">\n",
    "\n"
   ]
  },
  {
   "cell_type": "code",
   "execution_count": 3,
   "metadata": {
    "scrolled": true
   },
   "outputs": [
    {
     "name": "stdout",
     "output_type": "stream",
     "text": [
      "Write your name:Filipe\n",
      "welcome  Filipe\n"
     ]
    }
   ],
   "source": [
    "name = input(\"Write your name:\")\n",
    "\n",
    "print('welcome ', name)"
   ]
  },
  {
   "cell_type": "markdown",
   "metadata": {},
   "source": [
    "### Table of Contents\n",
    "\n",
    "* [<font color=green>Who we are</font>](#chapter1)\n",
    "* [<font color=green>Why we did it</font>](#chapter2)\n",
    "* [<font color=green>Where we have been</font>](#chapter3)\n",
    "\n"
   ]
  },
  {
   "cell_type": "markdown",
   "metadata": {},
   "source": [
    "## Who we are <a class=\"anchor\" id=\"chapter1\"></a>\n",
    "\n",
    "<img src=\"./IMG-20170805-WA0046.jpg\" width=\"100%\" />"
   ]
  },
  {
   "cell_type": "markdown",
   "metadata": {},
   "source": [
    "## Why we did <a class=\"anchor\" id=\"chapter2\"></a>\n",
    "\n",
    "- To have fun\n",
    "- Find the cities\n",
    "- Take a break\n"
   ]
  },
  {
   "cell_type": "markdown",
   "metadata": {},
   "source": [
    "## Where we have been <a class=\"anchor\" id=\"chapter3\"></a>\n",
    "\n",
    "- ljubljana\n",
    "- Zagreb\n",
    "- Hvar\n",
    "- Budapest\n",
    "- Bratislava\n",
    "- Viena\n",
    "- Krakow\n",
    "- Hamburg"
   ]
  },
  {
   "cell_type": "code",
   "execution_count": null,
   "metadata": {},
   "outputs": [],
   "source": []
  }
 ],
 "metadata": {
  "kernelspec": {
   "display_name": "Python 3",
   "language": "python",
   "name": "python3"
  },
  "language_info": {
   "codemirror_mode": {
    "name": "ipython",
    "version": 3
   },
   "file_extension": ".py",
   "mimetype": "text/x-python",
   "name": "python",
   "nbconvert_exporter": "python",
   "pygments_lexer": "ipython3",
   "version": "3.7.6"
  }
 },
 "nbformat": 4,
 "nbformat_minor": 4
}
