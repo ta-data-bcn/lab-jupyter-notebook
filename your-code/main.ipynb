{
 "cells": [
  {
   "cell_type": "markdown",
   "metadata": {},
   "source": [
    "# THAILAND"
   ]
  },
  {
   "cell_type": "markdown",
   "metadata": {},
   "source": [
    "***This a little overview about the last big trip I made last summer when everything was good.***"
   ]
  },
  {
   "cell_type": "markdown",
   "metadata": {},
   "source": [
    "## Index"
   ]
  },
  {
   "cell_type": "markdown",
   "metadata": {},
   "source": [
    "1. <a href=\"#1. Introduction\">Introduction</a>\n",
    "2. <a href=\"#2. Functions\">Functions</a>\n",
    "3. <a href=\"#3. Top 3 things visited/made\">Top 3 things visited/made</a>\n",
    "    "
   ]
  },
  {
   "cell_type": "markdown",
   "metadata": {},
   "source": [
    "<a id=\"1. Introduction\"></a>\n",
    "### 1. Introduction"
   ]
  },
  {
   "attachments": {},
   "cell_type": "markdown",
   "metadata": {},
   "source": [
    "I am Sergio and I'm 25. I enjoy travelling a lot even now that is a bit tricky. The first 'serious' trip as I like to say it, it has been Thailand.\n",
    "\n",
    "\n",
    "![name](../Pictures/portugal.jpg)\n",
    "\n",
    "<font color=red> *This is me recently.* </font>\n",
    "\n",
    "<br>\n",
    "\n",
    "\n",
    "\n",
    "\n",
    "Thailand is a tropical country famous by its old monuments, amazing landscapes and charmful people. The country is home to almost 67 million people making it one of the biggest in South-east Asia and one of the most devoloped ones within the region.\n",
    "\n",
    "There were many reasons why I chose Thailand. Since I was a child, I have been really attracted to Asian countries because its different cultures, languages and gastronomy and Thailand, was a place that sum up a lot of those things that make it worth to visit for a first big trip. \n",
    "\n",
    "<br>\n",
    "\n",
    "**↓ Here you can check out one of its incredible beaches: ↓**\n",
    "\n",
    "https://www.youtube.com/watch?v=IlXhywbggFY\n",
    "\n",
    "\n",
    "And here there is a picture of the man himself after a few hours under the hot Thai tropical sun 🦐😂 ↓\n",
    "\n",
    "![name](../Pictures/ayutthaya.jpg)\n"
   ]
  },
  {
   "cell_type": "markdown",
   "metadata": {},
   "source": [
    "<a id=\"2. Functions\"></a>\n",
    "### 2. Functions"
   ]
  },
  {
   "cell_type": "code",
   "execution_count": 28,
   "metadata": {},
   "outputs": [
    {
     "name": "stdout",
     "output_type": "stream",
     "text": [
      "Enter the name:Sergio\n",
      "The name of this person is Sergio\n",
      "Enter destination:Thailand\n",
      "The holiday destination is: Thailand\n"
     ]
    }
   ],
   "source": [
    "name = input(\"Enter the name:\")\n",
    "print (\"The name of this person is\", name)\n",
    "\n",
    "holiday_destination = input(\"Enter destination:\")\n",
    "print (\"The holiday destination is:\", destination)"
   ]
  },
  {
   "cell_type": "markdown",
   "metadata": {},
   "source": [
    "<a id=\"3. Top 3 things visited/made\"></a>\n",
    "### 3. Top 3 things visited/made"
   ]
  },
  {
   "attachments": {},
   "cell_type": "markdown",
   "metadata": {},
   "source": [
    "\n",
    "* <u> **Visiting elephant sanctuary** <u/>\n",
    "  <br> \n",
    "    \n",
    "![name](../Pictures/IMG_9095.jpg)\n",
    "    \n",
    "In here we made a visit to an elephant sanctuary in northern Thailand city called Chiang Mai. We took care of them feeding, bathing and playing with them.\n",
    "    <br>\n",
    "\n",
    "* <u> **On the very top of Bangkok** <u/>\n",
    "  <br> \n",
    "    \n",
    "![name](../Pictures/bangkok.jpg)\n",
    "  \n",
    "\n",
    "After an all-day long visit around Bangkok we ended up the journey with this views of one the tallest skyscrappers. This one is famous for its appearance in **The Hangover: Part II**\n",
    "    \n",
    "  <br>\n",
    "    \n",
    "* <u> **Koh Tao, the Turtle island** <u/>\n",
    "  <br> \n",
    "    \n",
    " ![name](../Pictures/kohtao.jpg)\n",
    "  \n",
    "\n",
    "The last stop on the trip was the island of Koh Tao. Famous for its diving and sea culture, one of the remain spots that is still surviving with the increasing the tourism. This panoramic picture taken accidentally, shows why it is called the Turtle Island."
   ]
  }
 ],
 "metadata": {
  "kernelspec": {
   "display_name": "Python 3",
   "language": "python",
   "name": "python3"
  }
 },
 "nbformat": 4,
 "nbformat_minor": 4
}
