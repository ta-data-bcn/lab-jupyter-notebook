{
 "cells": [
  {
   "cell_type": "markdown",
   "metadata": {},
   "source": [
    "# Something to remember"
   ]
  },
  {
   "cell_type": "markdown",
   "metadata": {},
   "source": [
    "# Index\n",
    "### [Let us know your name](#Let-us-know-your-name)\n",
    "### [This is us enjoying Isla Mucura](#This-is-us-enjoying-Isla-Mucura)\n",
    "### [Let us know your favourite holidays](#Let-us-know-your-favourite-holidays)\n",
    "### [What to do in Mucura](#What-to-do-in-Mucura)"
   ]
  },
  {
   "cell_type": "markdown",
   "metadata": {},
   "source": [
    "I spent my favourite holidays ever in a caribean island called Isla Mucura, it is the most relaxing place. Plus it is beautiful and you can watch luminiscent plancton. \n",
    "\n",
    "__[Check this video of the hostel in the middle of the sea](https://www.youtube.com/watch?v=rjCYPWO9kLo&ab_channel=KolorsAgenciaDigital)__"
   ]
  },
  {
   "cell_type": "markdown",
   "metadata": {},
   "source": [
    "<img src = data:image/jpeg;base64,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>"
   ]
  },
  {
   "cell_type": "markdown",
   "metadata": {},
   "source": [
    "### Let us know your name"
   ]
  },
  {
   "cell_type": "code",
   "execution_count": 4,
   "metadata": {},
   "outputs": [],
   "source": [
    "def ask_name():\n",
    "    print (\"Enter your name here:\")"
   ]
  },
  {
   "cell_type": "markdown",
   "metadata": {},
   "source": [
    "### This is us enjoying Isla Mucura"
   ]
  },
  {
   "attachments": {},
   "cell_type": "markdown",
   "metadata": {},
   "source": [
    "![WhatsApp%20Image%202020-10-19%20at%204.36.39%20PM.jpeg](../images/WhatsApp%20Image%202020-10-19%20at%204.36.39%20PM.jpeg)"
   ]
  },
  {
   "cell_type": "markdown",
   "metadata": {},
   "source": [
    "### Let us know your favourite holidays"
   ]
  },
  {
   "cell_type": "code",
   "execution_count": 10,
   "metadata": {},
   "outputs": [],
   "source": [
    "def your_fav_vac():\n",
    "    print (\"Tell us about your favourite holidays:\")"
   ]
  },
  {
   "cell_type": "markdown",
   "metadata": {},
   "source": [
    "### What to do in Mucura"
   ]
  },
  {
   "cell_type": "markdown",
   "metadata": {},
   "source": [
    "-  First of all **relax**"
   ]
  },
  {
   "cell_type": "markdown",
   "metadata": {},
   "source": [
    "-  Enjoy the sea, go kayaking"
   ]
  },
  {
   "cell_type": "markdown",
   "metadata": {},
   "source": [
    "-  Swim with luminiscent plancton"
   ]
  }
 ],
 "metadata": {
  "kernelspec": {
   "display_name": "Python 3",
   "language": "python",
   "name": "python3"
  },
  "language_info": {
   "codemirror_mode": {
    "name": "ipython",
    "version": 3
   },
   "file_extension": ".py",
   "mimetype": "text/x-python",
   "name": "python",
   "nbconvert_exporter": "python",
   "pygments_lexer": "ipython3",
   "version": "3.8.3"
  }
 },
 "nbformat": 4,
 "nbformat_minor": 4
}
