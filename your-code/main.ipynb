{
 "cells": [
  {
   "cell_type": "code",
   "execution_count": 1,
   "metadata": {},
   "outputs": [
    {
     "name": "stdout",
     "output_type": "stream",
     "text": [
      "Please enter The name of the subject. Bernat is a good name for this\n",
      "Bernat\n"
     ]
    },
    {
     "data": {
      "text/plain": [
       "('Bernat',\n",
       " \" 's choice for holidays is very variable, but for sure it means spending time outside\")"
      ]
     },
     "execution_count": 1,
     "metadata": {},
     "output_type": "execute_result"
    }
   ],
   "source": [
    "\n",
    "\n",
    "def subjects_name():\n",
    "    \"\"\"get the name of the subject\"\"\"\n",
    "    print (\"Please enter The name of the subject. Bernat is a good name for this\")\n",
    "    name=input()\n",
    "    return name.replace(\"'\",\"\")\n",
    "\n",
    "\n",
    "name=subjects_name()\n",
    "\n",
    "def holiday_preference():\n",
    "    return name.replace(\"'\",\"\"),\" 's choice for holidays is very variable, but for sure it means spending time outside\"\n",
    "\n",
    "\n",
    "holiday_preference()\n",
    "\n",
    "\n"
   ]
  },
  {
   "cell_type": "markdown",
   "metadata": {},
   "source": [
    "---\n",
    "\n",
    "\n",
    "<span style=\"color:red\">Warnings: **I don't know how to remove the \"\" and I imagine we have to use the python function in the middle of the markdown text, but I don't know how to do that either. I have issues with the youtube link as well, but you can click on it.** </span>\n",
    "\n",
    "---"
   ]
  },
  {
   "cell_type": "markdown",
   "metadata": {},
   "source": [
    "# Bernat's kind of weekend\n"
   ]
  },
  {
   "cell_type": "markdown",
   "metadata": {},
   "source": [
    "<span style=\"color:blue\">*This is a recount of a February weekend of 2018. This is the kind of short trip that Bernat enjoys.*</span>"
   ]
  },
  {
   "cell_type": "markdown",
   "metadata": {},
   "source": [
    "## Index"
   ]
  },
  {
   "cell_type": "markdown",
   "metadata": {},
   "source": [
    "1. <a href=\"#1.-Who_is_the_subject\">Who is the subject</a>\n",
    "\n",
    "2. <a href=\"#2.-Why_was_this_a_*great*_trip\">Why was this a *great* trip</a>\n",
    "\n",
    "3. <a href=\"#3.-The_trip\">The trip</a>\n",
    "\n",
    "\n"
   ]
  },
  {
   "cell_type": "markdown",
   "metadata": {},
   "source": [
    "## 1. Who is the subject"
   ]
  },
  {
   "cell_type": "markdown",
   "metadata": {},
   "source": [
    "\n",
    "\n",
    "![Picture not from the actual trip](Lab1_pictures/globus.jpg)\n",
    "\n",
    "\n",
    "Bernat is an avid skydiver, when it is not forbidden, he likes to jump off perfectly good working planes.\n",
    "He also happens to be my boyfriend, and on this weekend Carlos, a friend of us came along as well. But this was Bernat's compelte weekend.\n"
   ]
  },
  {
   "cell_type": "code",
   "execution_count": 2,
   "metadata": {},
   "outputs": [
    {
     "name": "stderr",
     "output_type": "stream",
     "text": [
      "/home/nrius/anaconda3/envs/py3.8.3/lib/python3.8/site-packages/IPython/core/display.py:717: UserWarning: Consider using IPython.display.IFrame instead\n",
      "  warnings.warn(\"Consider using IPython.display.IFrame instead\")\n"
     ]
    },
    {
     "data": {
      "text/html": [
       "<iframe width=\"560\" height=\"315\" src=\"https://www.youtube.com/watch?v=kPEtHJYNLbk\" frameborder=\"0\" allow=\"accelerometer; autoplay; encrypted-media; gyroscope; picture-in-picture\" allowfullscreen></iframe>"
      ],
      "text/plain": [
       "<IPython.core.display.HTML object>"
      ]
     },
     "execution_count": 2,
     "metadata": {},
     "output_type": "execute_result"
    }
   ],
   "source": [
    "from IPython.display import HTML, IFrame \n",
    "\n",
    "# Youtube\n",
    "\n",
    "HTML('<iframe width=\"560\" height=\"315\" src=\"https://www.youtube.com/watch?v=kPEtHJYNLbk\" frameborder=\"0\" allow=\"accelerometer; autoplay; encrypted-media; gyroscope; picture-in-picture\" allowfullscreen></iframe>')\n"
   ]
  },
  {
   "cell_type": "code",
   "execution_count": 8,
   "metadata": {},
   "outputs": [
    {
     "ename": "ModuleNotFoundError",
     "evalue": "No module named 'IPython.display.YouTubeVideo'; 'IPython.display' is not a package",
     "output_type": "error",
     "traceback": [
      "\u001b[0;31m---------------------------------------------------------------------------\u001b[0m",
      "\u001b[0;31mModuleNotFoundError\u001b[0m                       Traceback (most recent call last)",
      "\u001b[0;32m<ipython-input-8-d531c4cb6712>\u001b[0m in \u001b[0;36m<module>\u001b[0;34m\u001b[0m\n\u001b[0;32m----> 1\u001b[0;31m \u001b[0;32mfrom\u001b[0m \u001b[0mIPython\u001b[0m\u001b[0;34m.\u001b[0m\u001b[0mdisplay\u001b[0m\u001b[0;34m.\u001b[0m\u001b[0mYouTubeVideo\u001b[0m \u001b[0;32mimport\u001b[0m \u001b[0mdisplay\u001b[0m\u001b[0;34m\u001b[0m\u001b[0;34m\u001b[0m\u001b[0m\n\u001b[0m\u001b[1;32m      2\u001b[0m \u001b[0mvid\u001b[0m \u001b[0;34m=\u001b[0m \u001b[0mYouTubeVideo\u001b[0m\u001b[0;34m(\u001b[0m\u001b[0;34m\"v=kPEtHJYNLbk\"\u001b[0m\u001b[0;34m)\u001b[0m\u001b[0;34m\u001b[0m\u001b[0;34m\u001b[0m\u001b[0m\n\u001b[1;32m      3\u001b[0m \u001b[0mdisplay\u001b[0m\u001b[0;34m(\u001b[0m\u001b[0mvid\u001b[0m\u001b[0;34m)\u001b[0m\u001b[0;34m\u001b[0m\u001b[0;34m\u001b[0m\u001b[0m\n",
      "\u001b[0;31mModuleNotFoundError\u001b[0m: No module named 'IPython.display.YouTubeVideo'; 'IPython.display' is not a package"
     ]
    }
   ],
   "source": [
    "##I tried to used IPython.display.IFrame, but I can't make it work:\n",
    "from IPython.display.YouTubeVideo import display\n",
    "vid = YouTubeVideo(\"v=kPEtHJYNLbk\")\n",
    "display(vid)"
   ]
  },
  {
   "cell_type": "markdown",
   "metadata": {},
   "source": [
    "## 2. Why was this a *great* trip"
   ]
  },
  {
   "cell_type": "markdown",
   "metadata": {},
   "source": [
    "\n",
    "\n",
    "This trip included:\n",
    "\n",
    "* a couple of **jumps** from 4000 feet\n",
    "\n",
    "* driving through beautiful **snowy** landscapes\n",
    "\n",
    "* a short **hike**\n",
    "\n",
    "* soaking for hours in a natural **hot spring**\n",
    "\n",
    "* spending time with **friends**\n",
    "\n",
    "\n",
    "What else could you ask for?"
   ]
  },
  {
   "cell_type": "markdown",
   "metadata": {},
   "source": [
    "## 3. The trip:"
   ]
  },
  {
   "cell_type": "markdown",
   "metadata": {},
   "source": [
    "\n",
    "\n",
    "#### 3.1. Skydiving\n",
    "On Sturday, Bernat went to Sant Fruitós del Bages, to the dropzone that is closer to him, and inaugurated the weekend with a couple of jumps. Carlos and I meet him ther, with Carlos' camper van.\n",
    "    \n",
    "![title](Lab1_pictures/cloud.jpg)    \n",
    "\n",
    "#### 3.2. Road trip throuigh snowy landscape\n",
    "At this point we started the roadtrip to Fontpedrouse, in the French's Pyrenees. When we arrived to COll de la Creueta (close to Castellar de n'Hug) everything was covered in snow and the wind was blowing very strong. \n",
    "    \n",
    "![title](Lab1_pictures/snow.jpg)\n",
    "    \n",
    "  \n",
    "#### 3.3. Short hike\n",
    "\n",
    "When we arrived to Fontpedrouse it was pitch black already, ad we started the hike to arrive to the fountains. We had to cross a railway and jump down a rock, so Berna't came prepared with a rope in case someone (not me) needed a little help.\n",
    "\n",
    "![title](Lab1_pictures/vies.jpg)\n",
    "\n",
    "#### 3.4 Hot springs\n",
    "\n",
    "The spings didn't look fancy, and we had a visit of a little frog that camped on the hundred layers I was wearing, but we brought drinks and food. And the water was amazing. There were two water sources, a hot one in a semi-cave and a cold one, so you could achieve the perfect temperature while gazing at the stars.\n",
    "\n",
    "![title](Lab1_pictures/cave.jpg)\n",
    "\n",
    "\n",
    "#### 3.5. Cards at the van\n",
    "\n",
    "Once our toes looked like raisins, we headed back to the van, parked in somewhere nice and continued the night by playing some cards\n",
    "\n",
    "#### 3.6. Great breakfast!\n",
    "\n",
    "On Sunday, we woke up and went for a great breakfast with pastries and tea. After that we headed back home, and made it for lunch with the family.\n"
   ]
  }
 ],
 "metadata": {
  "kernelspec": {
   "display_name": "Python 3",
   "language": "python",
   "name": "python3"
  },
  "language_info": {
   "codemirror_mode": {
    "name": "ipython",
    "version": 3
   },
   "file_extension": ".py",
   "mimetype": "text/x-python",
   "name": "python",
   "nbconvert_exporter": "python",
   "pygments_lexer": "ipython3",
   "version": "3.8.2"
  },
  "toc": {
   "base_numbering": "3",
   "nav_menu": {},
   "number_sections": false,
   "sideBar": true,
   "skip_h1_title": true,
   "title_cell": "Table of Contents",
   "title_sidebar": "Contents",
   "toc_cell": false,
   "toc_position": {
    "height": "calc(100% - 180px)",
    "left": "10px",
    "top": "150px",
    "width": "277.333px"
   },
   "toc_section_display": true,
   "toc_window_display": true
  },
  "varInspector": {
   "cols": {
    "lenName": 16,
    "lenType": 16,
    "lenVar": 40
   },
   "kernels_config": {
    "python": {
     "delete_cmd_postfix": "",
     "delete_cmd_prefix": "del ",
     "library": "var_list.py",
     "varRefreshCmd": "print(var_dic_list())"
    },
    "r": {
     "delete_cmd_postfix": ") ",
     "delete_cmd_prefix": "rm(",
     "library": "var_list.r",
     "varRefreshCmd": "cat(var_dic_list()) "
    }
   },
   "types_to_exclude": [
    "module",
    "function",
    "builtin_function_or_method",
    "instance",
    "_Feature"
   ],
   "window_display": false
  }
 },
 "nbformat": 4,
 "nbformat_minor": 4
}
