{
 "cells": [
  {
   "cell_type": "markdown",
   "metadata": {},
   "source": [
    "## Sahar's favourite holidays!\n",
    "\n",
    " Sahar is a 22-year old girl from Girona, Spain. She __loves__ dancing, learning new things, being around people and spending hours watching _Grey's Anatomy_. She also loves to travel and, if she could only pick _one_ place, it would definetely be Amsterdam! \n",
    " ### __Here's why:__\n",
    "\n",
    "#### First time visiting the country\n",
    "When Sahar first visited Amsterdam at 11 years old, she immedietely fell in love with the country.\n",
    "\n",
    "#### Her home for 6 months\n",
    "10 years later, she had the opportunity to study there for 6 months, which was an amazing experience for her.\n",
    "\n",
    "#### Wanting to go back\n",
    "She can't wait to go back there for a few days, months, or years!\n",
    "\n",
    "![Amsterdam-2.jpg](http://localhost:8888/files/your-code/Amsterdam-2.jpg)\n",
    "\n",
    "[Here's why she loves the place so much!](https://www.youtube.com/watch?v=sWZTYYyFWN8)"
   ]
  },
  {
   "cell_type": "code",
   "execution_count": 1,
   "metadata": {
    "scrolled": false
   },
   "outputs": [
    {
     "name": "stdout",
     "output_type": "stream",
     "text": [
      "What is your name? Sahar\n"
     ]
    }
   ],
   "source": [
    "name=input(\"What is your name? \")"
   ]
  },
  {
   "cell_type": "markdown",
   "metadata": {},
   "source": [
    "![IMG_9576.jpg](http://localhost:8888/files/your-code/IMG_9576.jpg)"
   ]
  },
  {
   "cell_type": "markdown",
   "metadata": {},
   "source": []
  },
  {
   "cell_type": "code",
   "execution_count": 2,
   "metadata": {
    "scrolled": false
   },
   "outputs": [
    {
     "name": "stdout",
     "output_type": "stream",
     "text": [
      "And what is your favourite holiday destination? Amsterdam\n"
     ]
    }
   ],
   "source": [
    "place=input(\"And what is your favourite holiday destination? \")"
   ]
  },
  {
   "cell_type": "markdown",
   "metadata": {},
   "source": [
    "![IMG_9575.jpg](http://localhost:8888/files/your-code/IMG_9575.jpg)"
   ]
  },
  {
   "cell_type": "markdown",
   "metadata": {},
   "source": [
    "_Sahar being super happy when she moved to Amsterdam_"
   ]
  },
  {
   "cell_type": "markdown",
   "metadata": {},
   "source": [
    "### Here's what Sahar likes the most about Amsterdam: \n",
    " - The city's beautiful canals\n",
    " - She can bike everywhere\n",
    " - People are super friendly "
   ]
  }
 ],
 "metadata": {
  "kernelspec": {
   "display_name": "Python 3",
   "language": "python",
   "name": "python3"
  },
  "language_info": {
   "codemirror_mode": {
    "name": "ipython",
    "version": 3
   },
   "file_extension": ".py",
   "mimetype": "text/x-python",
   "name": "python",
   "nbconvert_exporter": "python",
   "pygments_lexer": "ipython3",
   "version": "3.8.2"
  }
 },
 "nbformat": 4,
 "nbformat_minor": 4
}
